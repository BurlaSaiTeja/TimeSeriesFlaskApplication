{
 "cells": [
  {
   "cell_type": "markdown",
   "id": "4b94a56f",
   "metadata": {},
   "source": [
    "# Statistical Analysis"
   ]
  },
  {
   "cell_type": "markdown",
   "id": "3deb7661",
   "metadata": {},
   "source": [
    "## Import Packages "
   ]
  },
  {
   "cell_type": "code",
   "execution_count": 1,
   "id": "c142c17b",
   "metadata": {},
   "outputs": [],
   "source": [
    "import warnings\n",
    "warnings.simplefilter(action = 'ignore')"
   ]
  },
  {
   "cell_type": "code",
   "execution_count": 2,
   "id": "52355e3b",
   "metadata": {},
   "outputs": [],
   "source": [
    "import pandas as pd\n",
    "import numpy as np\n",
    "\n",
    "import statistics\n",
    "import scipy.stats as st\n",
    "\n",
    "import matplotlib.pyplot as plt\n",
    "import seaborn as sns\n",
    "\n",
    "import random\n",
    "\n",
    "from scipy.stats import f_oneway\n",
    "from scipy.stats import chi2_contingency\n",
    "from scipy.stats import ttest_1samp\n",
    "from scipy.stats import ttest_ind\n",
    "from scipy.stats import ttest_rel"
   ]
  },
  {
   "cell_type": "markdown",
   "id": "a4667c44",
   "metadata": {},
   "source": [
    "## Combined Table "
   ]
  },
  {
   "cell_type": "code",
   "execution_count": 3,
   "id": "2dbbc23a",
   "metadata": {},
   "outputs": [
    {
     "data": {
      "text/html": [
       "<div>\n",
       "<style scoped>\n",
       "    .dataframe tbody tr th:only-of-type {\n",
       "        vertical-align: middle;\n",
       "    }\n",
       "\n",
       "    .dataframe tbody tr th {\n",
       "        vertical-align: top;\n",
       "    }\n",
       "\n",
       "    .dataframe thead th {\n",
       "        text-align: right;\n",
       "    }\n",
       "</style>\n",
       "<table border=\"1\" class=\"dataframe\">\n",
       "  <thead>\n",
       "    <tr style=\"text-align: right;\">\n",
       "      <th></th>\n",
       "      <th>Row_ID</th>\n",
       "      <th>Order_ID</th>\n",
       "      <th>Order_Date</th>\n",
       "      <th>Ship_Date</th>\n",
       "      <th>Ship_Mode</th>\n",
       "      <th>Customer_ID</th>\n",
       "      <th>Customer_Name</th>\n",
       "      <th>Segment</th>\n",
       "      <th>Country</th>\n",
       "      <th>City_Code</th>\n",
       "      <th>...</th>\n",
       "      <th>Quantity</th>\n",
       "      <th>Discount</th>\n",
       "      <th>Profit</th>\n",
       "      <th>Duration</th>\n",
       "      <th>City_Name</th>\n",
       "      <th>State</th>\n",
       "      <th>Region_ID</th>\n",
       "      <th>Region_Name</th>\n",
       "      <th>Order_Year</th>\n",
       "      <th>WeekDay</th>\n",
       "    </tr>\n",
       "  </thead>\n",
       "  <tbody>\n",
       "    <tr>\n",
       "      <th>0</th>\n",
       "      <td>1</td>\n",
       "      <td>CA-2013-152156</td>\n",
       "      <td>2013-11-09</td>\n",
       "      <td>2013-11-12</td>\n",
       "      <td>Second Class</td>\n",
       "      <td>CG-12520</td>\n",
       "      <td>Claire Gute</td>\n",
       "      <td>Consumer</td>\n",
       "      <td>United States</td>\n",
       "      <td>C259</td>\n",
       "      <td>...</td>\n",
       "      <td>2</td>\n",
       "      <td>0.0</td>\n",
       "      <td>41.9136</td>\n",
       "      <td>3 days</td>\n",
       "      <td>Henderson</td>\n",
       "      <td>Kentucky</td>\n",
       "      <td>R2</td>\n",
       "      <td>South</td>\n",
       "      <td>2013</td>\n",
       "      <td>Tuesday</td>\n",
       "    </tr>\n",
       "    <tr>\n",
       "      <th>1</th>\n",
       "      <td>2</td>\n",
       "      <td>CA-2013-152156</td>\n",
       "      <td>2013-11-09</td>\n",
       "      <td>2013-11-12</td>\n",
       "      <td>Second Class</td>\n",
       "      <td>CG-12520</td>\n",
       "      <td>Claire Gute</td>\n",
       "      <td>Consumer</td>\n",
       "      <td>United States</td>\n",
       "      <td>C259</td>\n",
       "      <td>...</td>\n",
       "      <td>3</td>\n",
       "      <td>0.0</td>\n",
       "      <td>219.5820</td>\n",
       "      <td>3 days</td>\n",
       "      <td>Henderson</td>\n",
       "      <td>Kentucky</td>\n",
       "      <td>R2</td>\n",
       "      <td>South</td>\n",
       "      <td>2013</td>\n",
       "      <td>Tuesday</td>\n",
       "    </tr>\n",
       "    <tr>\n",
       "      <th>2</th>\n",
       "      <td>539</td>\n",
       "      <td>CA-2012-134894</td>\n",
       "      <td>2012-12-07</td>\n",
       "      <td>2012-12-11</td>\n",
       "      <td>Standard Class</td>\n",
       "      <td>DK-12985</td>\n",
       "      <td>Darren Koutras</td>\n",
       "      <td>Consumer</td>\n",
       "      <td>United States</td>\n",
       "      <td>C259</td>\n",
       "      <td>...</td>\n",
       "      <td>3</td>\n",
       "      <td>0.0</td>\n",
       "      <td>41.2938</td>\n",
       "      <td>4 days</td>\n",
       "      <td>Henderson</td>\n",
       "      <td>Kentucky</td>\n",
       "      <td>R2</td>\n",
       "      <td>South</td>\n",
       "      <td>2012</td>\n",
       "      <td>Tuesday</td>\n",
       "    </tr>\n",
       "    <tr>\n",
       "      <th>3</th>\n",
       "      <td>540</td>\n",
       "      <td>CA-2012-134894</td>\n",
       "      <td>2012-12-07</td>\n",
       "      <td>2012-12-11</td>\n",
       "      <td>Standard Class</td>\n",
       "      <td>DK-12985</td>\n",
       "      <td>Darren Koutras</td>\n",
       "      <td>Consumer</td>\n",
       "      <td>United States</td>\n",
       "      <td>C259</td>\n",
       "      <td>...</td>\n",
       "      <td>4</td>\n",
       "      <td>0.0</td>\n",
       "      <td>70.9800</td>\n",
       "      <td>4 days</td>\n",
       "      <td>Henderson</td>\n",
       "      <td>Kentucky</td>\n",
       "      <td>R2</td>\n",
       "      <td>South</td>\n",
       "      <td>2012</td>\n",
       "      <td>Tuesday</td>\n",
       "    </tr>\n",
       "    <tr>\n",
       "      <th>4</th>\n",
       "      <td>997</td>\n",
       "      <td>CA-2012-162537</td>\n",
       "      <td>2012-10-28</td>\n",
       "      <td>2012-11-03</td>\n",
       "      <td>Standard Class</td>\n",
       "      <td>RD-19585</td>\n",
       "      <td>Rob Dowd</td>\n",
       "      <td>Consumer</td>\n",
       "      <td>United States</td>\n",
       "      <td>C259</td>\n",
       "      <td>...</td>\n",
       "      <td>1</td>\n",
       "      <td>0.0</td>\n",
       "      <td>4.9082</td>\n",
       "      <td>6 days</td>\n",
       "      <td>Henderson</td>\n",
       "      <td>Kentucky</td>\n",
       "      <td>R2</td>\n",
       "      <td>South</td>\n",
       "      <td>2012</td>\n",
       "      <td>Saturday</td>\n",
       "    </tr>\n",
       "  </tbody>\n",
       "</table>\n",
       "<p>5 rows × 27 columns</p>\n",
       "</div>"
      ],
      "text/plain": [
       "   Row_ID        Order_ID Order_Date  Ship_Date       Ship_Mode Customer_ID  \\\n",
       "0       1  CA-2013-152156 2013-11-09 2013-11-12    Second Class    CG-12520   \n",
       "1       2  CA-2013-152156 2013-11-09 2013-11-12    Second Class    CG-12520   \n",
       "2     539  CA-2012-134894 2012-12-07 2012-12-11  Standard Class    DK-12985   \n",
       "3     540  CA-2012-134894 2012-12-07 2012-12-11  Standard Class    DK-12985   \n",
       "4     997  CA-2012-162537 2012-10-28 2012-11-03  Standard Class    RD-19585   \n",
       "\n",
       "    Customer_Name   Segment        Country City_Code  ... Quantity  Discount  \\\n",
       "0     Claire Gute  Consumer  United States      C259  ...        2       0.0   \n",
       "1     Claire Gute  Consumer  United States      C259  ...        3       0.0   \n",
       "2  Darren Koutras  Consumer  United States      C259  ...        3       0.0   \n",
       "3  Darren Koutras  Consumer  United States      C259  ...        4       0.0   \n",
       "4        Rob Dowd  Consumer  United States      C259  ...        1       0.0   \n",
       "\n",
       "     Profit Duration  City_Name     State  Region_ID  Region_Name  Order_Year  \\\n",
       "0   41.9136   3 days  Henderson  Kentucky         R2        South        2013   \n",
       "1  219.5820   3 days  Henderson  Kentucky         R2        South        2013   \n",
       "2   41.2938   4 days  Henderson  Kentucky         R2        South        2012   \n",
       "3   70.9800   4 days  Henderson  Kentucky         R2        South        2012   \n",
       "4    4.9082   6 days  Henderson  Kentucky         R2        South        2012   \n",
       "\n",
       "    WeekDay  \n",
       "0   Tuesday  \n",
       "1   Tuesday  \n",
       "2   Tuesday  \n",
       "3   Tuesday  \n",
       "4  Saturday  \n",
       "\n",
       "[5 rows x 27 columns]"
      ]
     },
     "execution_count": 3,
     "metadata": {},
     "output_type": "execute_result"
    }
   ],
   "source": [
    "df = pd.read_csv(\"Store1.csv\", encoding='latin')\n",
    "df['Ship Mode'] = df['Ship Mode'].fillna('Standard Class')\n",
    "df['Country'] = df['Country'].fillna('United States')\n",
    "df = df.dropna()\n",
    "df.columns = df.columns.str.replace(' ','_')\n",
    "df['Ship_Date'] = df['Ship_Date'].str.replace('-','/') \n",
    "df['Order_Date'] = df['Order_Date'].str.replace('-','/') \n",
    "df['Order_Date'] = pd.to_datetime(df['Order_Date'])\n",
    "df['Ship_Date'] = pd.to_datetime(df['Ship_Date'])\n",
    "df['Duration'] = df['Ship_Date'] - df['Order_Date']\n",
    "dfCity = pd.read_excel('City_Master_P.xlsx' )\n",
    "df1 = pd.merge(df,dfCity,how = 'inner')\n",
    "dfState = pd.read_excel('State_Master.xlsx' )\n",
    "df2 = pd.merge(df1,dfState,how = 'inner')\n",
    "dfStateReg = pd.read_excel('Region_State_Mapping.xlsx' )\n",
    "df3 = pd.merge(df2,dfStateReg,how = 'inner')\n",
    "dfRegion = pd.read_excel('Region_Master.xlsx' )\n",
    "dfm = pd.merge(df3,dfRegion,how = 'inner')\n",
    "dfm['Order_Year'] = dfm['Order_Date'].dt.year\n",
    "dfm['WeekDay'] = dfm['Ship_Date'].dt.day_name()\n",
    "dfm.head()"
   ]
  },
  {
   "cell_type": "code",
   "execution_count": 4,
   "id": "8636d712",
   "metadata": {},
   "outputs": [
    {
     "name": "stdout",
     "output_type": "stream",
     "text": [
      "<class 'pandas.core.frame.DataFrame'>\n",
      "Int64Index: 9985 entries, 0 to 9984\n",
      "Data columns (total 27 columns):\n",
      " #   Column         Non-Null Count  Dtype          \n",
      "---  ------         --------------  -----          \n",
      " 0   Row_ID         9985 non-null   int64          \n",
      " 1   Order_ID       9985 non-null   object         \n",
      " 2   Order_Date     9985 non-null   datetime64[ns] \n",
      " 3   Ship_Date      9985 non-null   datetime64[ns] \n",
      " 4   Ship_Mode      9985 non-null   object         \n",
      " 5   Customer_ID    9985 non-null   object         \n",
      " 6   Customer_Name  9985 non-null   object         \n",
      " 7   Segment        9985 non-null   object         \n",
      " 8   Country        9985 non-null   object         \n",
      " 9   City_Code      9985 non-null   object         \n",
      " 10  State_Code     9985 non-null   object         \n",
      " 11  Postal_Code    9985 non-null   int64          \n",
      " 12  Product_ID     9985 non-null   object         \n",
      " 13  Category       9985 non-null   object         \n",
      " 14  Sub-Category   9985 non-null   object         \n",
      " 15  Product_Name   9985 non-null   object         \n",
      " 16  Sales          9985 non-null   float64        \n",
      " 17  Quantity       9985 non-null   int64          \n",
      " 18  Discount       9985 non-null   float64        \n",
      " 19  Profit         9985 non-null   float64        \n",
      " 20  Duration       9985 non-null   timedelta64[ns]\n",
      " 21  City_Name      9985 non-null   object         \n",
      " 22  State          9985 non-null   object         \n",
      " 23  Region_ID      9985 non-null   object         \n",
      " 24  Region_Name    9985 non-null   object         \n",
      " 25  Order_Year     9985 non-null   int64          \n",
      " 26  WeekDay        9985 non-null   object         \n",
      "dtypes: datetime64[ns](2), float64(3), int64(4), object(17), timedelta64[ns](1)\n",
      "memory usage: 2.1+ MB\n"
     ]
    }
   ],
   "source": [
    "dfm.info()"
   ]
  },
  {
   "cell_type": "markdown",
   "id": "a0d5683c",
   "metadata": {},
   "source": [
    "## Features To Use For Analysis"
   ]
  },
  {
   "cell_type": "markdown",
   "id": "54d72b0e",
   "metadata": {},
   "source": [
    "Numerical Features:\n",
    "1. Sales\n",
    "2. Quantity\n",
    "3. Discount\n",
    "4. Profit\n",
    "5. Duration\n",
    "\n",
    "Categorical Features:\n",
    "1. Ship_Mode\n",
    "2. Segment\n",
    "3. Category\n",
    "4. Sub-Category\n",
    "5. City_Name\n",
    "6. State\n",
    "7. WeekDay\n",
    "8. Region_Name"
   ]
  },
  {
   "cell_type": "markdown",
   "id": "33161964",
   "metadata": {},
   "source": [
    "## Numerical Data Analysis"
   ]
  },
  {
   "cell_type": "code",
   "execution_count": 5,
   "id": "af07f51c",
   "metadata": {},
   "outputs": [
    {
     "name": "stdout",
     "output_type": "stream",
     "text": [
      "Number of Rows in the Dataset:  9985\n"
     ]
    },
    {
     "data": {
      "text/html": [
       "<div>\n",
       "<style scoped>\n",
       "    .dataframe tbody tr th:only-of-type {\n",
       "        vertical-align: middle;\n",
       "    }\n",
       "\n",
       "    .dataframe tbody tr th {\n",
       "        vertical-align: top;\n",
       "    }\n",
       "\n",
       "    .dataframe thead th {\n",
       "        text-align: right;\n",
       "    }\n",
       "</style>\n",
       "<table border=\"1\" class=\"dataframe\">\n",
       "  <thead>\n",
       "    <tr style=\"text-align: right;\">\n",
       "      <th></th>\n",
       "      <th>Row_ID</th>\n",
       "      <th>Postal_Code</th>\n",
       "      <th>Sales</th>\n",
       "      <th>Quantity</th>\n",
       "      <th>Discount</th>\n",
       "      <th>Profit</th>\n",
       "      <th>Duration</th>\n",
       "      <th>Order_Year</th>\n",
       "    </tr>\n",
       "  </thead>\n",
       "  <tbody>\n",
       "    <tr>\n",
       "      <th>count</th>\n",
       "      <td>9985.000000</td>\n",
       "      <td>9985.00000</td>\n",
       "      <td>9985.000000</td>\n",
       "      <td>9985.000000</td>\n",
       "      <td>9985.000000</td>\n",
       "      <td>9985.000000</td>\n",
       "      <td>9985</td>\n",
       "      <td>9985.000000</td>\n",
       "    </tr>\n",
       "    <tr>\n",
       "      <th>mean</th>\n",
       "      <td>4993.896545</td>\n",
       "      <td>55182.79359</td>\n",
       "      <td>229.636100</td>\n",
       "      <td>3.789685</td>\n",
       "      <td>0.156183</td>\n",
       "      <td>28.587722</td>\n",
       "      <td>3 days 23:01:09.584376564</td>\n",
       "      <td>2012.723986</td>\n",
       "    </tr>\n",
       "    <tr>\n",
       "      <th>std</th>\n",
       "      <td>2883.894709</td>\n",
       "      <td>32060.89504</td>\n",
       "      <td>622.927104</td>\n",
       "      <td>2.225074</td>\n",
       "      <td>0.206477</td>\n",
       "      <td>234.183523</td>\n",
       "      <td>1 days 17:55:50.881956015</td>\n",
       "      <td>1.123722</td>\n",
       "    </tr>\n",
       "    <tr>\n",
       "      <th>min</th>\n",
       "      <td>1.000000</td>\n",
       "      <td>1040.00000</td>\n",
       "      <td>0.444000</td>\n",
       "      <td>1.000000</td>\n",
       "      <td>0.000000</td>\n",
       "      <td>-6599.978000</td>\n",
       "      <td>0 days 00:00:00</td>\n",
       "      <td>2011.000000</td>\n",
       "    </tr>\n",
       "    <tr>\n",
       "      <th>25%</th>\n",
       "      <td>2497.000000</td>\n",
       "      <td>23223.00000</td>\n",
       "      <td>17.280000</td>\n",
       "      <td>2.000000</td>\n",
       "      <td>0.000000</td>\n",
       "      <td>1.731000</td>\n",
       "      <td>3 days 00:00:00</td>\n",
       "      <td>2012.000000</td>\n",
       "    </tr>\n",
       "    <tr>\n",
       "      <th>50%</th>\n",
       "      <td>4993.000000</td>\n",
       "      <td>56301.00000</td>\n",
       "      <td>54.500000</td>\n",
       "      <td>3.000000</td>\n",
       "      <td>0.200000</td>\n",
       "      <td>8.671500</td>\n",
       "      <td>4 days 00:00:00</td>\n",
       "      <td>2013.000000</td>\n",
       "    </tr>\n",
       "    <tr>\n",
       "      <th>75%</th>\n",
       "      <td>7489.000000</td>\n",
       "      <td>90008.00000</td>\n",
       "      <td>209.940000</td>\n",
       "      <td>5.000000</td>\n",
       "      <td>0.200000</td>\n",
       "      <td>29.364000</td>\n",
       "      <td>5 days 00:00:00</td>\n",
       "      <td>2014.000000</td>\n",
       "    </tr>\n",
       "    <tr>\n",
       "      <th>max</th>\n",
       "      <td>9994.000000</td>\n",
       "      <td>99301.00000</td>\n",
       "      <td>22638.480000</td>\n",
       "      <td>14.000000</td>\n",
       "      <td>0.800000</td>\n",
       "      <td>8399.976000</td>\n",
       "      <td>7 days 00:00:00</td>\n",
       "      <td>2014.000000</td>\n",
       "    </tr>\n",
       "  </tbody>\n",
       "</table>\n",
       "</div>"
      ],
      "text/plain": [
       "            Row_ID  Postal_Code         Sales     Quantity     Discount  \\\n",
       "count  9985.000000   9985.00000   9985.000000  9985.000000  9985.000000   \n",
       "mean   4993.896545  55182.79359    229.636100     3.789685     0.156183   \n",
       "std    2883.894709  32060.89504    622.927104     2.225074     0.206477   \n",
       "min       1.000000   1040.00000      0.444000     1.000000     0.000000   \n",
       "25%    2497.000000  23223.00000     17.280000     2.000000     0.000000   \n",
       "50%    4993.000000  56301.00000     54.500000     3.000000     0.200000   \n",
       "75%    7489.000000  90008.00000    209.940000     5.000000     0.200000   \n",
       "max    9994.000000  99301.00000  22638.480000    14.000000     0.800000   \n",
       "\n",
       "            Profit                   Duration   Order_Year  \n",
       "count  9985.000000                       9985  9985.000000  \n",
       "mean     28.587722  3 days 23:01:09.584376564  2012.723986  \n",
       "std     234.183523  1 days 17:55:50.881956015     1.123722  \n",
       "min   -6599.978000            0 days 00:00:00  2011.000000  \n",
       "25%       1.731000            3 days 00:00:00  2012.000000  \n",
       "50%       8.671500            4 days 00:00:00  2013.000000  \n",
       "75%      29.364000            5 days 00:00:00  2014.000000  \n",
       "max    8399.976000            7 days 00:00:00  2014.000000  "
      ]
     },
     "execution_count": 5,
     "metadata": {},
     "output_type": "execute_result"
    }
   ],
   "source": [
    "print(\"Number of Rows in the Dataset: \", len(dfm))\n",
    "dfm.describe()"
   ]
  },
  {
   "cell_type": "markdown",
   "id": "fc8a0428",
   "metadata": {},
   "source": [
    "Insights:\n",
    "The average quantity sold for a product is close to 4 and maximum sold is 14 and minimum sold is 1.\n",
    "The max profit on a product is 8399 and the max discount given on a product is 0.8.\n",
    "The orders in the current dataset are given for the years 2011-2014.\n",
    "The max duration for a product to go from order phase to shipping phase is 7 days and minimum is that the product is received on the same day."
   ]
  },
  {
   "cell_type": "code",
   "execution_count": 6,
   "id": "c3dc54b5",
   "metadata": {},
   "outputs": [
    {
     "data": {
      "text/plain": [
       "Index(['Sales', 'Quantity', 'Discount', 'Profit'], dtype='object')"
      ]
     },
     "execution_count": 6,
     "metadata": {},
     "output_type": "execute_result"
    }
   ],
   "source": [
    "num_col = dfm[[\"Sales\", \"Quantity\", \"Discount\", \"Profit\"]].dtypes.index\n",
    "num_col"
   ]
  },
  {
   "cell_type": "code",
   "execution_count": 7,
   "id": "883e2e4f",
   "metadata": {},
   "outputs": [],
   "source": [
    "import matplotlib.pyplot as plt\n",
    "import seaborn as sns\n",
    "def numeric_analyse(df, var, layout = None):\n",
    "    if layout == None:\n",
    "        layout = (1, len(var))\n",
    "    plt.figure(figsize = (layout[1]*10, layout[0]*10), dpi = 100)\n",
    "    for j,i in enumerate(var):\n",
    "        min = df[i].min()\n",
    "        max = df[i].max()\n",
    "        range = df[i].max() - df[i].min()\n",
    "        mean = df[i].mean()\n",
    "        median = df[i].median()\n",
    "        standard_deviation = df[i].std()\n",
    "        skew = df[i].skew()\n",
    "        kurtosis = df[i].kurtosis()\n",
    "        \n",
    "        p = mean-standard_deviation, mean+standard_deviation\n",
    "        \n",
    "        plt.subplot(layout[0], layout[1], j+1)\n",
    "        sns.kdeplot(df[i])\n",
    "        sns.lineplot(p, [0,0], color = 'red', label='Standard Deviation')\n",
    "        sns.scatterplot([min, max], [0,0], color = 'red', label = 'Min and Max')\n",
    "        sns.scatterplot([mean], [0], color = 'green', label = 'Mean')\n",
    "        sns.scatterplot([median], [0], color = 'blue', label = 'Median')\n",
    "        plt.xlabel('{}'.format(i), fontsize = 15, fontweight = 'bold')\n",
    "        plt.ylabel('Density', fontsize = 15, fontweight = 'bold')\n",
    "        plt.title('range = {} mean = {} median = {} \\n standard_deviation = {} \\n skew = {} kurtosis = {} \\n'.format((round(min,2), round(max,2), round(range,2)),round(mean,2),round(median,2),(round(p[0],2), round(p[1],2)), round(skew,2), round(kurtosis,2)))\n",
    "        "
   ]
  },
  {
   "cell_type": "code",
   "execution_count": 8,
   "id": "685c867a",
   "metadata": {},
   "outputs": [
    {
     "data": {
      "image/png": "[encoded data removed]",
      "text/plain": [
       "<Figure size 2000x4000 with 4 Axes>"
      ]
     },
     "metadata": {
      "needs_background": "light"
     },
     "output_type": "display_data"
    }
   ],
   "source": [
    "numeric_analyse(dfm, num_col, (4,2))"
   ]
  },
  {
   "cell_type": "markdown",
   "id": "36dfaeba",
   "metadata": {},
   "source": [
    "Insights:\n",
    "Very few orders have sales above 2000 which means there are probably a few outliers in the data.\n",
    "The mean number of quantity of products that are getting ordered is 3.\n",
    "Most of the orders have 0 discount on them.\n",
    "Profit has very unsual min and max number which means we might have to check for outliers and eliminate or clean them so that we can use the new data for better analysis."
   ]
  },
  {
   "cell_type": "markdown",
   "id": "09def96a",
   "metadata": {},
   "source": [
    "## Categorical Data Analysis"
   ]
  },
  {
   "cell_type": "markdown",
   "id": "22175e40",
   "metadata": {},
   "source": [
    "### CDA - 1"
   ]
  },
  {
   "cell_type": "markdown",
   "id": "19c8d09f",
   "metadata": {},
   "source": [
    "1) Find out which Category has the higest number of orders.\n",
    "2) Find out which Sub-Category of the Category from point 1 has the highest number of orders.\n",
    "3) Find top 20 Products of the Sub-Category from point 2 that has the highest number of orders."
   ]
  },
  {
   "cell_type": "code",
   "execution_count": 9,
   "id": "1380777b",
   "metadata": {},
   "outputs": [
    {
     "data": {
      "text/plain": [
       "Office Supplies    6020\n",
       "Furniture          2120\n",
       "Technology         1845\n",
       "Name: Category, dtype: int64"
      ]
     },
     "execution_count": 9,
     "metadata": {},
     "output_type": "execute_result"
    }
   ],
   "source": [
    "dfm['Category'].value_counts()"
   ]
  },
  {
   "cell_type": "code",
   "execution_count": 10,
   "id": "ba878bf5",
   "metadata": {},
   "outputs": [
    {
     "data": {
      "text/plain": [
       "Binders       1523\n",
       "Paper         1367\n",
       "Storage        845\n",
       "Art            795\n",
       "Appliances     466\n",
       "Labels         364\n",
       "Envelopes      254\n",
       "Fasteners      217\n",
       "Supplies       189\n",
       "Name: Sub-Category, dtype: int64"
      ]
     },
     "execution_count": 10,
     "metadata": {},
     "output_type": "execute_result"
    }
   ],
   "source": [
    "Sub_Cat = dfm.loc[dfm['Category'] == 'Office Supplies', 'Sub-Category']\n",
    "Sub_Cat.value_counts()"
   ]
  },
  {
   "cell_type": "code",
   "execution_count": 11,
   "id": "a0e710a9",
   "metadata": {},
   "outputs": [
    {
     "data": {
      "text/plain": [
       "Avery Non-Stick Binders                                           20\n",
       "Storex Dura Pro Binders                                           17\n",
       "GBC Premium Transparent Covers with Diagonal Lined Pattern        14\n",
       "Ibico Plastic Spiral Binding Combs                                13\n",
       "GBC Instant Report Kit                                            13\n",
       "Wilson Jones Turn Tabs Binder Tool for Ring Binders               13\n",
       "Zipper Ring Binder Pockets                                        13\n",
       "ACCOHIDE 3-Ring Binder, Blue, 1\"                                  13\n",
       "Pressboard Covers with Storage Hooks, 9 1/2\" x 11\", Light Blue    12\n",
       "Wilson Jones Ledger-Size, Piano-Hinge Binder, 2\", Blue            12\n",
       "GBC Standard Therm-A-Bind Covers                                  12\n",
       "GBC Standard Recycled Report Covers, Clear Plastic Sheets         12\n",
       "Wilson Jones Easy Flow II Sheet Lifters                           12\n",
       "Avery Durable Binders                                             12\n",
       "Wilson Jones Leather-Like Binders with DublLock Round Rings       12\n",
       "Satellite Sectional Post Binders                                  11\n",
       "GBC DocuBind TL300 Electric Binding System                        11\n",
       "Aluminum Screw Posts                                              11\n",
       "Ibico Hi-Tech Manual Binding System                               11\n",
       "Avery Self-Adhesive Photo Pockets for Polaroid Photos             11\n",
       "Name: Product_Name, dtype: int64"
      ]
     },
     "execution_count": 11,
     "metadata": {},
     "output_type": "execute_result"
    }
   ],
   "source": [
    "Prod = dfm.loc[dfm['Sub-Category'] == 'Binders', 'Product_Name']\n",
    "Prod.value_counts().head(20) "
   ]
  },
  {
   "cell_type": "markdown",
   "id": "efb46fba",
   "metadata": {},
   "source": [
    "Insights:\n",
    "The office supplies category has the most number of order which might mean that the sales for that category is the most too.\n",
    "Binders are the most ordered sub category in the office supplies category."
   ]
  },
  {
   "cell_type": "markdown",
   "id": "aa4b8573",
   "metadata": {},
   "source": [
    "### CDA - 2"
   ]
  },
  {
   "cell_type": "markdown",
   "id": "00e5785a",
   "metadata": {},
   "source": [
    "1) Which segment has placed the most amount of orders?\n",
    "2) Check for each segment what category is getting ordered the most."
   ]
  },
  {
   "cell_type": "code",
   "execution_count": 12,
   "id": "0e2ec1b5",
   "metadata": {},
   "outputs": [
    {
     "data": {
      "text/plain": [
       "Consumer       5188\n",
       "Corporate      3016\n",
       "Home Office    1781\n",
       "Name: Segment, dtype: int64"
      ]
     },
     "execution_count": 12,
     "metadata": {},
     "output_type": "execute_result"
    }
   ],
   "source": [
    "dfm['Segment'].value_counts()"
   ]
  },
  {
   "cell_type": "code",
   "execution_count": 13,
   "id": "7b56ac43",
   "metadata": {
    "scrolled": true
   },
   "outputs": [
    {
     "data": {
      "text/plain": [
       "Office Supplies    3125\n",
       "Furniture          1113\n",
       "Technology          950\n",
       "Name: Category, dtype: int64"
      ]
     },
     "execution_count": 13,
     "metadata": {},
     "output_type": "execute_result"
    }
   ],
   "source": [
    "Category = dfm.loc[dfm['Segment'] == 'Consumer', 'Category']\n",
    "Category.value_counts()"
   ]
  },
  {
   "cell_type": "code",
   "execution_count": 14,
   "id": "80d4e8e6",
   "metadata": {},
   "outputs": [
    {
     "data": {
      "text/plain": [
       "Office Supplies    1817\n",
       "Furniture           645\n",
       "Technology          554\n",
       "Name: Category, dtype: int64"
      ]
     },
     "execution_count": 14,
     "metadata": {},
     "output_type": "execute_result"
    }
   ],
   "source": [
    "Category = dfm.loc[dfm['Segment'] == 'Corporate', 'Category']\n",
    "Category.value_counts()"
   ]
  },
  {
   "cell_type": "code",
   "execution_count": 15,
   "id": "56a50e53",
   "metadata": {},
   "outputs": [
    {
     "data": {
      "text/plain": [
       "Office Supplies    1078\n",
       "Furniture           362\n",
       "Technology          341\n",
       "Name: Category, dtype: int64"
      ]
     },
     "execution_count": 15,
     "metadata": {},
     "output_type": "execute_result"
    }
   ],
   "source": [
    "Category = dfm.loc[dfm['Segment'] == 'Home Office', 'Category']\n",
    "Category.value_counts()"
   ]
  },
  {
   "cell_type": "markdown",
   "id": "e00319e5",
   "metadata": {},
   "source": [
    "Insights:\n",
    "The Consumer segment is on top with the most number of orders.\n",
    "When we see the count of orders in different Segment for each Category we see that Office Supplies always tops with the most orders in all the Segments."
   ]
  },
  {
   "cell_type": "markdown",
   "id": "a1c57fc6",
   "metadata": {},
   "source": [
    "### CDA - 3"
   ]
  },
  {
   "cell_type": "markdown",
   "id": "c56401ee",
   "metadata": {},
   "source": [
    "1) Find which Ship_Mode got the most orders.\n",
    "2) Find on which weekday did most of the orders get shipped."
   ]
  },
  {
   "cell_type": "code",
   "execution_count": 16,
   "id": "7fb58169",
   "metadata": {},
   "outputs": [
    {
     "data": {
      "text/plain": [
       "Standard Class    5973\n",
       "Second Class      1938\n",
       "First Class       1534\n",
       "Same Day           540\n",
       "Name: Ship_Mode, dtype: int64"
      ]
     },
     "execution_count": 16,
     "metadata": {},
     "output_type": "execute_result"
    }
   ],
   "source": [
    "dfm['Ship_Mode'].value_counts()"
   ]
  },
  {
   "cell_type": "code",
   "execution_count": 17,
   "id": "59eeb431",
   "metadata": {},
   "outputs": [
    {
     "data": {
      "text/plain": [
       "Saturday     1617\n",
       "Tuesday      1537\n",
       "Sunday       1525\n",
       "Monday       1495\n",
       "Wednesday    1384\n",
       "Friday       1295\n",
       "Thursday     1132\n",
       "Name: WeekDay, dtype: int64"
      ]
     },
     "execution_count": 17,
     "metadata": {},
     "output_type": "execute_result"
    }
   ],
   "source": [
    "dfm['WeekDay'].value_counts()"
   ]
  },
  {
   "cell_type": "code",
   "execution_count": 18,
   "id": "5efb8598",
   "metadata": {},
   "outputs": [
    {
     "data": {
      "text/plain": [
       "Ship_Mode       WeekDay  \n",
       "First Class     Friday        248\n",
       "                Monday        135\n",
       "                Saturday      290\n",
       "                Sunday        274\n",
       "                Thursday      256\n",
       "                Tuesday       147\n",
       "                Wednesday     184\n",
       "Same Day        Friday         74\n",
       "                Monday        110\n",
       "                Saturday       47\n",
       "                Sunday         13\n",
       "                Thursday      118\n",
       "                Tuesday       102\n",
       "                Wednesday      76\n",
       "Second Class    Friday        262\n",
       "                Monday        274\n",
       "                Saturday      332\n",
       "                Sunday        392\n",
       "                Thursday      208\n",
       "                Tuesday       198\n",
       "                Wednesday     272\n",
       "Standard Class  Friday        711\n",
       "                Monday        976\n",
       "                Saturday      948\n",
       "                Sunday        846\n",
       "                Thursday      550\n",
       "                Tuesday      1090\n",
       "                Wednesday     852\n",
       "Name: Row_ID, dtype: int64"
      ]
     },
     "execution_count": 18,
     "metadata": {},
     "output_type": "execute_result"
    }
   ],
   "source": [
    "Day = dfm.groupby(['Ship_Mode','WeekDay']).count()['Row_ID']\n",
    "Day"
   ]
  },
  {
   "cell_type": "markdown",
   "id": "c3fe73e9",
   "metadata": {},
   "source": [
    "Insights:\n",
    "Most of the orders got shipped through Standard Class.\n",
    "Saturday was the day that most orders irrespective of ship mode got shipped."
   ]
  },
  {
   "cell_type": "markdown",
   "id": "e74a6f74",
   "metadata": {},
   "source": [
    "### CDA - 4"
   ]
  },
  {
   "cell_type": "markdown",
   "id": "9584f986",
   "metadata": {},
   "source": [
    "1) Find out which region put in the most number of orders.\n",
    "2) Find out which state from that region contributed to the orders the most.\n",
    "3) Find out the top 10 cities from that state that put in the most orders."
   ]
  },
  {
   "cell_type": "code",
   "execution_count": 19,
   "id": "76ceb026",
   "metadata": {},
   "outputs": [
    {
     "data": {
      "text/plain": [
       "West       3199\n",
       "East       2845\n",
       "Central    2321\n",
       "South      1620\n",
       "Name: Region_Name, dtype: int64"
      ]
     },
     "execution_count": 19,
     "metadata": {},
     "output_type": "execute_result"
    }
   ],
   "source": [
    "dfm['Region_Name'].value_counts()"
   ]
  },
  {
   "cell_type": "code",
   "execution_count": 20,
   "id": "9375501e",
   "metadata": {},
   "outputs": [
    {
     "data": {
      "text/plain": [
       "California    1998\n",
       "Washington     506\n",
       "Arizona        224\n",
       "Colorado       182\n",
       "Oregon         124\n",
       "Utah            53\n",
       "Nevada          39\n",
       "New Mexico      36\n",
       "Idaho           21\n",
       "Montana         15\n",
       "Wyoming          1\n",
       "Name: State, dtype: int64"
      ]
     },
     "execution_count": 20,
     "metadata": {},
     "output_type": "execute_result"
    }
   ],
   "source": [
    "State_Count = dfm.loc[dfm['Region_Name'] == 'West', 'State']\n",
    "State_Count.value_counts()"
   ]
  },
  {
   "cell_type": "code",
   "execution_count": 21,
   "id": "58b76b7b",
   "metadata": {},
   "outputs": [
    {
     "data": {
      "text/plain": [
       "Los Angeles      747\n",
       "San Francisco    509\n",
       "San Diego        170\n",
       "San Jose          42\n",
       "Long Beach        27\n",
       "Anaheim           26\n",
       "Oakland           26\n",
       "Fresno            25\n",
       "Pasadena          25\n",
       "Westminster       17\n",
       "Name: City_Name, dtype: int64"
      ]
     },
     "execution_count": 21,
     "metadata": {},
     "output_type": "execute_result"
    }
   ],
   "source": [
    "City_Count = dfm.loc[dfm['State'] == 'California', 'City_Name']\n",
    "City_Count.value_counts().head(10)"
   ]
  },
  {
   "cell_type": "markdown",
   "id": "8fb28b88",
   "metadata": {},
   "source": [
    "Insights:\n",
    "The West region has placed the most number of orders compared to the other 3 regions respectively.\n",
    "The state of california in the west region dominated the other states in this region with the number of orders palced.\n",
    "In the cities of california los angeles and sanfrancisco contributed to the majority of the orders from the state."
   ]
  },
  {
   "cell_type": "markdown",
   "id": "c2d69c2b",
   "metadata": {},
   "source": [
    "## Hypothesis Testing"
   ]
  },
  {
   "cell_type": "code",
   "execution_count": 22,
   "id": "fce80374",
   "metadata": {},
   "outputs": [],
   "source": [
    "alpha = 0.05"
   ]
  },
  {
   "cell_type": "markdown",
   "id": "ecbf818e",
   "metadata": {},
   "source": [
    "### Hypothesis Test - 1 Anova"
   ]
  },
  {
   "cell_type": "markdown",
   "id": "be4ce134",
   "metadata": {},
   "source": [
    "Are the sales better in the west region compared to the other regions?\n",
    "H1: It is better\n",
    "H0: It is not better"
   ]
  },
  {
   "cell_type": "code",
   "execution_count": 23,
   "id": "ec4ae8af",
   "metadata": {},
   "outputs": [],
   "source": [
    "dfa = dfm.loc[dfm['Region_Name'] == 'West', 'Sales']\n",
    "dfa1 = dfa.values.tolist()"
   ]
  },
  {
   "cell_type": "code",
   "execution_count": 24,
   "id": "bdeb3d7f",
   "metadata": {},
   "outputs": [],
   "source": [
    "dfs = dfm.loc[dfm['Region_Name'] == 'South', 'Sales']\n",
    "dfc = dfm.loc[dfm['Region_Name'] == 'Central', 'Sales']\n",
    "dfe = dfm.loc[dfm['Region_Name'] == 'East', 'Sales']\n",
    "dfas = dfs.values.tolist()\n",
    "dfac = dfc.values.tolist()\n",
    "dfae = dfe.values.tolist()\n",
    "dfa2 = dfas + dfac + dfae"
   ]
  },
  {
   "cell_type": "code",
   "execution_count": 25,
   "id": "3a8bb616",
   "metadata": {},
   "outputs": [
    {
     "name": "stdout",
     "output_type": "stream",
     "text": [
      "Value of P is:  0.6479313146102212\n"
     ]
    }
   ],
   "source": [
    "fstat, pval = f_oneway(dfa1, dfa2)\n",
    "print('Value of P is: ',pval)"
   ]
  },
  {
   "cell_type": "code",
   "execution_count": 26,
   "id": "ec835bfa",
   "metadata": {},
   "outputs": [
    {
     "name": "stdout",
     "output_type": "stream",
     "text": [
      "Failed to reject the null hypothesis\n"
     ]
    }
   ],
   "source": [
    "if pval < alpha:\n",
    "    print(\"Reject the null hypothesis\")\n",
    "else:\n",
    "    print(\"Failed to reject the null hypothesis\")"
   ]
  },
  {
   "cell_type": "markdown",
   "id": "adb98e39",
   "metadata": {},
   "source": [
    "Conclusion of test:\n",
    "The above anova test shows us that west region does not have better sales compared to the other three regions combined."
   ]
  },
  {
   "cell_type": "markdown",
   "id": "632a01da",
   "metadata": {},
   "source": [
    "### Hypothesis Test - 2 Chi-Square Test"
   ]
  },
  {
   "cell_type": "markdown",
   "id": "0d0fdece",
   "metadata": {},
   "source": [
    "Is there a relationship between Ship Mode and Week Day?\n",
    "H1: Both are dependant \n",
    "H0: Both are not dependant"
   ]
  },
  {
   "cell_type": "code",
   "execution_count": 27,
   "id": "7d42dfdf",
   "metadata": {},
   "outputs": [
    {
     "data": {
      "text/html": [
       "<div>\n",
       "<style scoped>\n",
       "    .dataframe tbody tr th:only-of-type {\n",
       "        vertical-align: middle;\n",
       "    }\n",
       "\n",
       "    .dataframe tbody tr th {\n",
       "        vertical-align: top;\n",
       "    }\n",
       "\n",
       "    .dataframe thead th {\n",
       "        text-align: right;\n",
       "    }\n",
       "</style>\n",
       "<table border=\"1\" class=\"dataframe\">\n",
       "  <thead>\n",
       "    <tr style=\"text-align: right;\">\n",
       "      <th></th>\n",
       "      <th>Ship_Mode</th>\n",
       "      <th>WeekDay</th>\n",
       "    </tr>\n",
       "  </thead>\n",
       "  <tbody>\n",
       "    <tr>\n",
       "      <th>0</th>\n",
       "      <td>Second Class</td>\n",
       "      <td>Tuesday</td>\n",
       "    </tr>\n",
       "    <tr>\n",
       "      <th>1</th>\n",
       "      <td>Second Class</td>\n",
       "      <td>Tuesday</td>\n",
       "    </tr>\n",
       "    <tr>\n",
       "      <th>2</th>\n",
       "      <td>Standard Class</td>\n",
       "      <td>Tuesday</td>\n",
       "    </tr>\n",
       "    <tr>\n",
       "      <th>3</th>\n",
       "      <td>Standard Class</td>\n",
       "      <td>Tuesday</td>\n",
       "    </tr>\n",
       "    <tr>\n",
       "      <th>4</th>\n",
       "      <td>Standard Class</td>\n",
       "      <td>Saturday</td>\n",
       "    </tr>\n",
       "  </tbody>\n",
       "</table>\n",
       "</div>"
      ],
      "text/plain": [
       "        Ship_Mode   WeekDay\n",
       "0    Second Class   Tuesday\n",
       "1    Second Class   Tuesday\n",
       "2  Standard Class   Tuesday\n",
       "3  Standard Class   Tuesday\n",
       "4  Standard Class  Saturday"
      ]
     },
     "execution_count": 27,
     "metadata": {},
     "output_type": "execute_result"
    }
   ],
   "source": [
    "rel = dfm[['Ship_Mode', 'WeekDay']]\n",
    "rel.head()"
   ]
  },
  {
   "cell_type": "code",
   "execution_count": 28,
   "id": "d8d3193d",
   "metadata": {},
   "outputs": [
    {
     "data": {
      "text/html": [
       "<div>\n",
       "<style scoped>\n",
       "    .dataframe tbody tr th:only-of-type {\n",
       "        vertical-align: middle;\n",
       "    }\n",
       "\n",
       "    .dataframe tbody tr th {\n",
       "        vertical-align: top;\n",
       "    }\n",
       "\n",
       "    .dataframe thead th {\n",
       "        text-align: right;\n",
       "    }\n",
       "</style>\n",
       "<table border=\"1\" class=\"dataframe\">\n",
       "  <thead>\n",
       "    <tr style=\"text-align: right;\">\n",
       "      <th>WeekDay</th>\n",
       "      <th>Friday</th>\n",
       "      <th>Monday</th>\n",
       "      <th>Saturday</th>\n",
       "      <th>Sunday</th>\n",
       "      <th>Thursday</th>\n",
       "      <th>Tuesday</th>\n",
       "      <th>Wednesday</th>\n",
       "    </tr>\n",
       "    <tr>\n",
       "      <th>Ship_Mode</th>\n",
       "      <th></th>\n",
       "      <th></th>\n",
       "      <th></th>\n",
       "      <th></th>\n",
       "      <th></th>\n",
       "      <th></th>\n",
       "      <th></th>\n",
       "    </tr>\n",
       "  </thead>\n",
       "  <tbody>\n",
       "    <tr>\n",
       "      <th>First Class</th>\n",
       "      <td>248</td>\n",
       "      <td>135</td>\n",
       "      <td>290</td>\n",
       "      <td>274</td>\n",
       "      <td>256</td>\n",
       "      <td>147</td>\n",
       "      <td>184</td>\n",
       "    </tr>\n",
       "    <tr>\n",
       "      <th>Same Day</th>\n",
       "      <td>74</td>\n",
       "      <td>110</td>\n",
       "      <td>47</td>\n",
       "      <td>13</td>\n",
       "      <td>118</td>\n",
       "      <td>102</td>\n",
       "      <td>76</td>\n",
       "    </tr>\n",
       "    <tr>\n",
       "      <th>Second Class</th>\n",
       "      <td>262</td>\n",
       "      <td>274</td>\n",
       "      <td>332</td>\n",
       "      <td>392</td>\n",
       "      <td>208</td>\n",
       "      <td>198</td>\n",
       "      <td>272</td>\n",
       "    </tr>\n",
       "    <tr>\n",
       "      <th>Standard Class</th>\n",
       "      <td>711</td>\n",
       "      <td>976</td>\n",
       "      <td>948</td>\n",
       "      <td>846</td>\n",
       "      <td>550</td>\n",
       "      <td>1090</td>\n",
       "      <td>852</td>\n",
       "    </tr>\n",
       "  </tbody>\n",
       "</table>\n",
       "</div>"
      ],
      "text/plain": [
       "WeekDay         Friday  Monday  Saturday  Sunday  Thursday  Tuesday  Wednesday\n",
       "Ship_Mode                                                                     \n",
       "First Class        248     135       290     274       256      147        184\n",
       "Same Day            74     110        47      13       118      102         76\n",
       "Second Class       262     274       332     392       208      198        272\n",
       "Standard Class     711     976       948     846       550     1090        852"
      ]
     },
     "execution_count": 28,
     "metadata": {},
     "output_type": "execute_result"
    }
   ],
   "source": [
    "contingency = pd.crosstab(rel['Ship_Mode'], rel['WeekDay'])\n",
    "contingency"
   ]
  },
  {
   "cell_type": "code",
   "execution_count": 29,
   "id": "1f1655f8",
   "metadata": {},
   "outputs": [
    {
     "name": "stdout",
     "output_type": "stream",
     "text": [
      "Chi Square Statistic :  428.05 \n",
      "\n",
      "P - Value :  0.0 \n",
      "\n",
      "Degrees of Freedom :  18 \n",
      "\n",
      "Contingency Table: \n",
      " [[198.95142714 229.67751627 248.42043065 234.28642964 173.9096645\n",
      "  236.12999499 212.62453681]\n",
      " [ 70.03505258  80.85127692  87.44917376  82.47371057  61.21982974\n",
      "   83.12268403  74.84827241]\n",
      " [251.34802203 290.16624937 313.84536805 295.98898348 219.71116675\n",
      "  298.31807712 268.6221332 ]\n",
      " [774.66549825 894.30495744 967.28502754 912.25087631 677.15933901\n",
      "  919.42924387 827.90505759]] \n",
      "\n"
     ]
    }
   ],
   "source": [
    "chi2, pval, dof, expected = chi2_contingency(contingency)\n",
    "print(\"Chi Square Statistic : \",round(chi2,2),\"\\n\")\n",
    "print(\"P - Value : \",round(pval,4),\"\\n\")\n",
    "print(\"Degrees of Freedom : \",dof,\"\\n\")\n",
    "print(\"Contingency Table: \\n\",expected,\"\\n\")"
   ]
  },
  {
   "cell_type": "markdown",
   "id": "e33cc595",
   "metadata": {},
   "source": [
    "Conclusion of test:\n",
    "Since the p-value is less than alpha value we reject the null hypothesis. \n",
    "So we can conclude that there is some dependance between Ship_Mode and WeekDay."
   ]
  },
  {
   "cell_type": "markdown",
   "id": "ad0f4600",
   "metadata": {},
   "source": [
    "### Hypothesis Test - 3 T - Test(One Sample)"
   ]
  },
  {
   "cell_type": "markdown",
   "id": "9704c028",
   "metadata": {},
   "source": [
    "For the Sales of the state of iowa, are the means of sample and population different?\n",
    "H1: There is a difference\n",
    "H0: There is no difference"
   ]
  },
  {
   "cell_type": "code",
   "execution_count": 30,
   "id": "1cc87857",
   "metadata": {},
   "outputs": [],
   "source": [
    "dft = dfm.loc[dfm['State'] == 'Iowa', 'Sales']\n",
    "dfTt1 = dft.values.tolist()"
   ]
  },
  {
   "cell_type": "code",
   "execution_count": 31,
   "id": "920cc724",
   "metadata": {},
   "outputs": [
    {
     "name": "stdout",
     "output_type": "stream",
     "text": [
      "Mean of the population for sales in state iowa is :  152.65866666666665\n"
     ]
    }
   ],
   "source": [
    "sales_mean = np.mean(dfTt1)\n",
    "print(\"Mean of the population for sales in state iowa is : \", sales_mean)"
   ]
  },
  {
   "cell_type": "code",
   "execution_count": 32,
   "id": "b6742195",
   "metadata": {},
   "outputs": [
    {
     "data": {
      "text/plain": [
       "[34.58, 5.4, 40.3, 25.9, 13.48, 18.28, 94.85, 115.84, 45.92, 106.32]"
      ]
     },
     "execution_count": 32,
     "metadata": {},
     "output_type": "execute_result"
    }
   ],
   "source": [
    "sample_size = 10\n",
    "sales_sample1 = random.sample(dfTt1, sample_size)\n",
    "sales_sample1"
   ]
  },
  {
   "cell_type": "code",
   "execution_count": 33,
   "id": "bd800dad",
   "metadata": {},
   "outputs": [
    {
     "name": "stdout",
     "output_type": "stream",
     "text": [
      "Value of P is:  2.3187434273481772e-05\n"
     ]
    }
   ],
   "source": [
    "ttest, pval = ttest_1samp(sales_sample1, 152)\n",
    "print('Value of P is: ',pval)"
   ]
  },
  {
   "cell_type": "code",
   "execution_count": 34,
   "id": "fd9f7968",
   "metadata": {},
   "outputs": [
    {
     "name": "stdout",
     "output_type": "stream",
     "text": [
      "Reject the null hypothesis\n"
     ]
    }
   ],
   "source": [
    "if pval < alpha:\n",
    "    print(\"Reject the null hypothesis\")\n",
    "else:\n",
    "    print(\"Failed to reject the null hypothesis\")"
   ]
  },
  {
   "cell_type": "markdown",
   "id": "596207b3",
   "metadata": {},
   "source": [
    "Conclusion of test:\n",
    "Fluctuating answer as we are taking only a small subset of a very big population.\n",
    "But most of the time the answer we are getting is to accept the null hypothesis so by probability we can say that there is no difference between means sales of sample and population for the state iowa."
   ]
  },
  {
   "cell_type": "markdown",
   "id": "bf209681",
   "metadata": {},
   "source": [
    "### Hypothesis Test - 4 T - Test(Two Sample)"
   ]
  },
  {
   "cell_type": "markdown",
   "id": "bcabbc58",
   "metadata": {},
   "source": [
    "Do the state iowa and the state nevada have equal effect on sales or not?\n",
    "H0: The effect of state iowa and state nevada on sales are equal\n",
    "H1: The effect of state iowa and state nevada on sales are not equal"
   ]
  },
  {
   "cell_type": "code",
   "execution_count": 35,
   "id": "7b8cf7c2",
   "metadata": {},
   "outputs": [
    {
     "name": "stdout",
     "output_type": "stream",
     "text": [
      "[75.96, 27.24, 45.92, 18.28, 207.0, 32.35, 7.71, 40.3, 34.58, 6.48, 40.46, 404.94, 25.9, 6.12, 1184.72, 44.75, 7.28, 5.4, 278.4, 106.32, 115.84, 12.96, 94.85, 13.48, 14.91, 15.24, 1408.1, 263.96, 9.99, 30.32]\n",
      "[196.45, 1685.88, 5.728, 75.792, 141.96, 66.048, 31.08, 80.96, 25.92, 32.4, 97.88, 45.584, 8.288, 1123.128, 64.9, 40.08, 3.64, 159.768, 475.944, 4.71, 1669.6, 58.58, 911.984, 674.352, 134.01, 170.97, 18.06, 79.14, 37.4, 6.48, 1325.85, 14.94, 113.22, 35.88, 4535.976, 14.56, 2396.4, 86.2, 79.36]\n"
     ]
    }
   ],
   "source": [
    "dft = dfm.loc[dfm['State'] == 'Iowa', 'Sales']\n",
    "dfTt1 = dft.values.tolist()\n",
    "print(dfTt1)\n",
    "dft = dfm.loc[dfm['State'] == 'Nevada', 'Sales']\n",
    "dfTt2 = dft.values.tolist()\n",
    "print(dfTt2)"
   ]
  },
  {
   "cell_type": "code",
   "execution_count": 36,
   "id": "357b0af0",
   "metadata": {},
   "outputs": [
    {
     "name": "stdout",
     "output_type": "stream",
     "text": [
      "Mean of the population for sales in state iowa is :  152.65866666666665\n",
      "Mean of the population for sales in state nevada is :  428.9513333333333\n"
     ]
    }
   ],
   "source": [
    "sales_mean1 = np.mean(dfTt1)\n",
    "print(\"Mean of the population for sales in state iowa is : \", sales_mean1)\n",
    "sales_mean2 = np.mean(dfTt2)\n",
    "print(\"Mean of the population for sales in state nevada is : \", sales_mean2)"
   ]
  },
  {
   "cell_type": "code",
   "execution_count": 37,
   "id": "bdc80255",
   "metadata": {},
   "outputs": [
    {
     "name": "stdout",
     "output_type": "stream",
     "text": [
      "Value of P is:  0.10760506695265279\n"
     ]
    }
   ],
   "source": [
    "tval, pval = ttest_ind(dfTt1,dfTt2)\n",
    "print('Value of P is: ',pval)"
   ]
  },
  {
   "cell_type": "code",
   "execution_count": 38,
   "id": "4c53d6d4",
   "metadata": {},
   "outputs": [
    {
     "name": "stdout",
     "output_type": "stream",
     "text": [
      "Failed to reject the null hypothesis\n"
     ]
    }
   ],
   "source": [
    "if pval < alpha:\n",
    "    print(\"Reject the null hypothesis\")\n",
    "else:\n",
    "    print(\"Failed to reject the null hypothesis\")"
   ]
  },
  {
   "cell_type": "markdown",
   "id": "cac38f5f",
   "metadata": {},
   "source": [
    "Conclusion of test:\n",
    "The effect of state iowa and state nevada are equal on sales."
   ]
  },
  {
   "cell_type": "markdown",
   "id": "e863e4ae",
   "metadata": {},
   "source": [
    "### Hypothesis Test - 5 T - Test(Paired Sample)"
   ]
  },
  {
   "cell_type": "markdown",
   "id": "3e88a8d8",
   "metadata": {},
   "source": [
    "Are the sales in 2011 and sales in 2014 comparatively different?\n",
    "H1: There is a difference\n",
    "H0: There is no difference"
   ]
  },
  {
   "cell_type": "code",
   "execution_count": 39,
   "id": "9c59de25",
   "metadata": {},
   "outputs": [],
   "source": [
    "dft = dfm.loc[dfm['Order_Year'] == 2011, 'Sales']\n",
    "dfTt1 = dft.values.tolist()\n",
    "dft = dfm.loc[dfm['Order_Year'] == 2014, 'Sales']\n",
    "dfTt2 = dft.values.tolist()"
   ]
  },
  {
   "cell_type": "code",
   "execution_count": 40,
   "id": "0ee9b050",
   "metadata": {},
   "outputs": [
    {
     "name": "stdout",
     "output_type": "stream",
     "text": [
      "Mean of the population for sales in the year 2011 :  243.02916462003017\n",
      "Mean of the population for sales in the year 2014 :  221.13498740584512\n"
     ]
    }
   ],
   "source": [
    "sales_mean1 = np.mean(dfTt1)\n",
    "print(\"Mean of the population for sales in the year 2011 : \", sales_mean1)\n",
    "sales_mean2 = np.mean(dfTt2)\n",
    "print(\"Mean of the population for sales in the year 2014 : \", sales_mean2)"
   ]
  },
  {
   "cell_type": "code",
   "execution_count": 41,
   "id": "5f9691cc",
   "metadata": {},
   "outputs": [
    {
     "name": "stdout",
     "output_type": "stream",
     "text": [
      "[104.85, 151.72, 3.392, 17.46, 81.98, 32.952, 11.784, 9.45, 549.99, 340.144, 13.272, 60.72, 144.12, 20.064, 19.752, 239.84, 966.7, 139.8, 911.984, 21.84, 19.9, 7.3, 11.85, 70.71, 13.96, 15.24, 376.509, 41.94, 158.13, 148.704]\n",
      "[2.296, 42.616, 73.176, 88.02, 1.64, 95.88, 9.4, 6.258, 18.28, 3.75, 411.8, 64.14, 2314.116, 45.528, 32.56, 195.104, 67.9, 13.36, 21.248, 19.44, 213.136, 62.592, 44.4, 32.7, 25.99, 1336.829, 37.608, 1488.424, 74.112, 47.952]\n"
     ]
    }
   ],
   "source": [
    "sample_size = 30\n",
    "sales_sample1 = random.sample(dfTt1, sample_size)\n",
    "print(sales_sample1)\n",
    "sample_size = 30\n",
    "sales_sample2 = random.sample(dfTt2, sample_size)\n",
    "print(sales_sample2)"
   ]
  },
  {
   "cell_type": "code",
   "execution_count": 42,
   "id": "fd541cab",
   "metadata": {},
   "outputs": [
    {
     "name": "stdout",
     "output_type": "stream",
     "text": [
      "Value of P is:  0.5182495033342109\n"
     ]
    }
   ],
   "source": [
    "tval, pval = ttest_rel(sales_sample1, sales_sample2)\n",
    "print('Value of P is: ',pval)"
   ]
  },
  {
   "cell_type": "code",
   "execution_count": 43,
   "id": "7314aeb8",
   "metadata": {},
   "outputs": [
    {
     "name": "stdout",
     "output_type": "stream",
     "text": [
      "Failed to reject the null hypothesis\n"
     ]
    }
   ],
   "source": [
    "if pval < alpha:\n",
    "    print(\"Reject the null hypothesis\")\n",
    "else:\n",
    "    print(\"Failed to reject the null hypothesis\")"
   ]
  },
  {
   "cell_type": "markdown",
   "id": "78631ede",
   "metadata": {},
   "source": [
    "Conclusion of test:\n",
    "The test shows that there is no difference between sales from 2011 to 2014."
   ]
  },
  {
   "cell_type": "markdown",
   "id": "2fe92258",
   "metadata": {},
   "source": [
    "### Hypothesis Test - 6 - Correlation Test"
   ]
  },
  {
   "cell_type": "markdown",
   "id": "a3eff768",
   "metadata": {},
   "source": [
    "Is there a relationship between discount and profit?\n",
    "H1: There is a relationship\n",
    "H0: There is no relationship"
   ]
  },
  {
   "cell_type": "code",
   "execution_count": 44,
   "id": "a9ffc7e5",
   "metadata": {},
   "outputs": [
    {
     "data": {
      "text/plain": [
       "(-0.21973171903078342, 1.9212510559505788e-109)"
      ]
     },
     "execution_count": 44,
     "metadata": {},
     "output_type": "execute_result"
    }
   ],
   "source": [
    "st.pearsonr(dfm['Discount'], dfm['Profit'])"
   ]
  },
  {
   "cell_type": "code",
   "execution_count": 45,
   "id": "80490c02",
   "metadata": {},
   "outputs": [
    {
     "data": {
      "text/plain": [
       "<AxesSubplot:xlabel='Discount', ylabel='Profit'>"
      ]
     },
     "execution_count": 45,
     "metadata": {},
     "output_type": "execute_result"
    },
    {
     "data": {
      "image/png": "[encoded data removed]",
      "text/plain": [
       "<Figure size 432x288 with 1 Axes>"
      ]
     },
     "metadata": {
      "needs_background": "light"
     },
     "output_type": "display_data"
    }
   ],
   "source": [
    "sns.scatterplot(dfm['Discount'], dfm['Profit'])"
   ]
  },
  {
   "cell_type": "markdown",
   "id": "e8651999",
   "metadata": {},
   "source": [
    "Conclusion of test:\n",
    "The relation between Discount and Profit is a moderate negative correlation."
   ]
  },
  {
   "cell_type": "markdown",
   "id": "a48dda06",
   "metadata": {},
   "source": [
    "Other relations using correlation:\n",
    "    1) Sales and Profit\n",
    "    2) Quantity and Profit\n",
    "    3) Discount and Sales\n",
    "    4) Discount and Quantity"
   ]
  },
  {
   "cell_type": "code",
   "execution_count": 46,
   "id": "cbb5e4cf",
   "metadata": {},
   "outputs": [
    {
     "data": {
      "text/plain": [
       "<AxesSubplot:xlabel='Discount', ylabel='Quantity'>"
      ]
     },
     "execution_count": 46,
     "metadata": {},
     "output_type": "execute_result"
    },
    {
     "data": {
      "image/png": "[encoded data removed]",
      "text/plain": [
       "<Figure size 1080x576 with 5 Axes>"
      ]
     },
     "metadata": {
      "needs_background": "light"
     },
     "output_type": "display_data"
    }
   ],
   "source": [
    "plt.figure(figsize = (15,8))\n",
    "plt.subplot(231)\n",
    "sns.scatterplot(dfm['Sales'], dfm['Profit'])\n",
    "plt.subplot(232)\n",
    "sns.scatterplot(dfm['Discount'], dfm['Profit'])\n",
    "plt.subplot(233)\n",
    "sns.scatterplot(dfm['Quantity'], dfm['Profit'])\n",
    "plt.subplot(234)\n",
    "sns.scatterplot(dfm['Discount'], dfm['Sales'])\n",
    "plt.subplot(235)\n",
    "sns.scatterplot(dfm['Discount'], dfm['Quantity'])"
   ]
  }
 ],
 "metadata": {
  "kernelspec": {
   "display_name": "Python 3 (ipykernel)",
   "language": "python",
   "name": "python3"
  },
  "language_info": {
   "codemirror_mode": {
    "name": "ipython",
    "version": 3
   },
   "file_extension": ".py",
   "mimetype": "text/x-python",
   "name": "python",
   "nbconvert_exporter": "python",
   "pygments_lexer": "ipython3",
   "version": "3.9.7"
  }
 },
 "nbformat": 4,
 "nbformat_minor": 5
}
